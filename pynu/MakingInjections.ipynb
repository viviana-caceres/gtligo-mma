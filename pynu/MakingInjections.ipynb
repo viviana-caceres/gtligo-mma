{
 "cells": [
  {
   "cell_type": "markdown",
   "id": "e8b73415-2540-4801-9526-2bffb6eb6fc9",
   "metadata": {},
   "source": [
    "# Injection creation"
   ]
  },
  {
   "cell_type": "markdown",
   "id": "b656dfdb-c3e1-429d-8a8a-1dd5da1047a0",
   "metadata": {},
   "source": [
    "#### We'll be using the pycbc_create_injections module to create an HDF file with our injection. We'll input it into the workflow directly without messing around with injection cache files. Then for new investigations, we will rerun the same boxes with new injections using the .map options."
   ]
  },
  {
   "cell_type": "markdown",
   "id": "49f14f9f-da9e-4bf2-8110-34d686c66a2f",
   "metadata": {},
   "source": [
    "## Source the right environment"
   ]
  },
  {
   "cell_type": "markdown",
   "id": "1a495046-10ac-45d1-aa08-548e88968fb7",
   "metadata": {},
   "source": [
    "I've encompassed all of the necessary changes in this new environment from which all of these steps can be run:"
   ]
  },
  {
   "cell_type": "code",
   "execution_count": null,
   "id": "06efcb00-a751-4012-9d28-dab019b33bc5",
   "metadata": {
    "vscode": {
     "languageId": "shellscript"
    }
   },
   "outputs": [],
   "source": [
    "source /home/hannah.griggs/src/nu-dev/pynumods/bin/activate"
   ]
  },
  {
   "cell_type": "markdown",
   "id": "13eb11b2-5ead-49ed-9b06-fbfb4ed26009",
   "metadata": {},
   "source": [
    "## Making the Injections"
   ]
  },
  {
   "cell_type": "markdown",
   "id": "4fc3316b-ae13-41cb-9d3b-e7aed2aebbda",
   "metadata": {},
   "source": [
    "#### 1. Make your injections.ini file (exanple):"
   ]
  },
  {
   "cell_type": "code",
   "execution_count": null,
   "id": "db6bb38d-eba4-4e55-acd8-a1c7f71a2ee3",
   "metadata": {},
   "outputs": [],
   "source": [
    "[variable_params]\n",
    "\n",
    "[static_params]\n",
    "tc = 1239880000\n",
    "mass1 = 1.8\n",
    "mass2 = 1.5\n",
    "ra = 158.9333\n",
    "dec = 46.4552\n",
    "inclination = 45.0\n",
    "coa_phase = 0.0\n",
    "polarization = 0.0\n",
    "distance = 100\n",
    "f_ref = 20\n",
    "f_lower = 18\n",
    "approximant = IMRPhenomXHM\n",
    "taper = start"
   ]
  },
  {
   "cell_type": "markdown",
   "id": "73fb10c4-9d91-47cb-8e73-f415a2bb2a64",
   "metadata": {},
   "source": [
    "\n",
    "The [variable_params] section needs to be there even if we're not using it. "
   ]
  },
  {
   "cell_type": "markdown",
   "id": "4fc9d4f3-9958-48e8-ab94-b3a25931de24",
   "metadata": {},
   "source": [
    "#### 2. Generate the injections using pycbc_create_injections. An example createinjs.sh file would look like this:"
   ]
  },
  {
   "cell_type": "code",
   "execution_count": null,
   "id": "aaf0bc5f-b2a6-4465-a2ba-0dcf767cf564",
   "metadata": {},
   "outputs": [],
   "source": [
    "#!/bin/sh\n",
    "\n",
    "ID=test\n",
    "\n",
    "echo\n",
    "echo \"Running injection creator...\" \n",
    "pycbc_create_injections --verbose \\\n",
    "        --config-files injections.ini \\\n",
    "        --ninjections 1 \\\n",
    "        --seed 10 \\\n",
    "        --output-file injs_IMRPhenomXHM/injection_${ID}.hdf \\\n",
    "        --variable-params-section variable_params \\\n",
    "        --static-params-section static_params \\\n",
    "        --dist-section prior \\\n",
    "        --force"
   ]
  },
  {
   "cell_type": "markdown",
   "id": "85e77aa4-3446-4a89-ad97-4c3f5a621b65",
   "metadata": {},
   "source": [
    "#### 3. Run your injection maker:"
   ]
  },
  {
   "cell_type": "code",
   "execution_count": null,
   "id": "1393dbab-ca4d-40dc-ae21-07e421301a2b",
   "metadata": {
    "vscode": {
     "languageId": "shellscript"
    }
   },
   "outputs": [],
   "source": [
    "./creatinjs.sh"
   ]
  },
  {
   "cell_type": "markdown",
   "id": "9f0f3af9-84a4-4052-8384-2247d4e1453d",
   "metadata": {},
   "source": [
    "## Inserting injections into the workflow"
   ]
  },
  {
   "cell_type": "markdown",
   "id": "c973b6a8-dc10-4a18-99a0-dc42ee04be14",
   "metadata": {},
   "source": [
    "#### 1. Copy these files to your run directory:"
   ]
  },
  {
   "cell_type": "code",
   "execution_count": null,
   "id": "7cc1dcd8-f5b7-432c-a418-625104950692",
   "metadata": {
    "vscode": {
     "languageId": "shellscript"
    }
   },
   "outputs": [],
   "source": [
    "/home/hannah.griggs/nu/pynu_tests/skyloc/run_testing/events_test/o3events/injections_pregen.ini\n",
    "/home/hannah.griggs/nu/pynu_tests/skyloc/run_testing/events_test/o3events/runpregen.sh"
   ]
  },
  {
   "cell_type": "markdown",
   "id": "387c68c6-40c7-4bdd-b6fa-3208b3d9a688",
   "metadata": {},
   "source": [
    "** This runpregen different than the version you have! It now points to the file that includes the new injection."
   ]
  },
  {
   "cell_type": "markdown",
   "id": "10d0446a-ac86-4096-82d0-3f82be45ea44",
   "metadata": {},
   "source": [
    "#### 2. Edit injections_pregen.ini with your new injection if needed:"
   ]
  },
  {
   "cell_type": "markdown",
   "id": "7bedb396-e3b1-4c7d-bfc6-9ebcc0f555c9",
   "metadata": {},
   "source": [
    "If you're running an analysis that requires a new injection, go to line 57 and put the path to your new injection."
   ]
  },
  {
   "cell_type": "code",
   "execution_count": null,
   "id": "da9bd1de-1ecc-40d6-be8d-2eb6e2e9bad1",
   "metadata": {},
   "outputs": [],
   "source": [
    "[workflow-injections-bnstarget]\n",
    "injections-pregenerated-file = /home/hannah.griggs/nu/banks/gen_plot_injections/autoinjections/injs_IMRPhenomXHM/injection.hdf"
   ]
  },
  {
   "cell_type": "markdown",
   "id": "dfe95c36-8c8b-4cda-8873-eb0f1d45a87a",
   "metadata": {},
   "source": [
    "#### 3. Run runpregen.sh "
   ]
  },
  {
   "cell_type": "code",
   "execution_count": null,
   "id": "a14f16a3-3350-4de4-b769-abaab7fcbecb",
   "metadata": {
    "vscode": {
     "languageId": "shellscript"
    }
   },
   "outputs": [],
   "source": [
    "./runpregen.sh"
   ]
  },
  {
   "cell_type": "markdown",
   "id": "26523838-f238-4768-9ef4-f8e54a5c6472",
   "metadata": {},
   "source": [
    "#### 4. Babysit your run"
   ]
  }
 ],
 "metadata": {
  "kernelspec": {
   "display_name": " igwn-py",
   "language": "python",
   "name": "igwn-py"
  },
  "language_info": {
   "codemirror_mode": {
    "name": "ipython",
    "version": 3
   },
   "file_extension": ".py",
   "mimetype": "text/x-python",
   "name": "python",
   "nbconvert_exporter": "python",
   "pygments_lexer": "ipython3",
   "version": "3.10.13"
  }
 },
 "nbformat": 4,
 "nbformat_minor": 5
}
